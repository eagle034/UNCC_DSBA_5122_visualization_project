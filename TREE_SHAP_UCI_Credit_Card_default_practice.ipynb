{
  "nbformat": 4,
  "nbformat_minor": 0,
  "metadata": {
    "colab": {
      "provenance": [],
      "authorship_tag": "ABX9TyMTzHUfic7DsbTuAklJR641",
      "include_colab_link": true
    },
    "kernelspec": {
      "name": "python3",
      "display_name": "Python 3"
    },
    "language_info": {
      "name": "python"
    }
  },
  "cells": [
    {
      "cell_type": "markdown",
      "metadata": {
        "id": "view-in-github",
        "colab_type": "text"
      },
      "source": [
        "<a href=\"https://colab.research.google.com/github/eagle034/SHAP_based_prediction_practice/blob/main/TREE_SHAP_UCI_Credit_Card_default_practice.ipynb\" target=\"_parent\"><img src=\"https://colab.research.google.com/assets/colab-badge.svg\" alt=\"Open In Colab\"/></a>"
      ]
    },
    {
      "cell_type": "code",
      "execution_count": 1,
      "metadata": {
        "colab": {
          "base_uri": "https://localhost:8080/"
        },
        "id": "UsGXeuFV4oYo",
        "outputId": "773b43fd-e689-451a-8d2d-9bb6bba3e94d"
      },
      "outputs": [
        {
          "output_type": "stream",
          "name": "stdout",
          "text": [
            "Mounted at /content/gdrive\n"
          ]
        }
      ],
      "source": [
        "from google.colab import drive\n",
        "drive.mount('/content/gdrive')"
      ]
    },
    {
      "cell_type": "markdown",
      "source": [
        "# Practice Notebook for SHAP based UCI Credit Card Default Prediction"
      ],
      "metadata": {
        "id": "S2b-ZmtX4rfy"
      }
    },
    {
      "cell_type": "code",
      "source": [
        "import os\n",
        "if os.path.exists('SHAP_based_prediction_practice'):\n",
        "  print('Use local SHAP_based_prediction_practice repo.')\n",
        "else:\n",
        "  print('Checking out SHAP_based_prediction_practice repo ...')\n",
        "  !git clone https://github.com/eagle034/SHAP_based_prediction_practice.git"
      ],
      "metadata": {
        "colab": {
          "base_uri": "https://localhost:8080/"
        },
        "id": "YkPvlrIL436H",
        "outputId": "ee8f614c-f4eb-49e7-ea34-cefd3f3440ac"
      },
      "execution_count": 3,
      "outputs": [
        {
          "output_type": "stream",
          "name": "stdout",
          "text": [
            "Checking out SHAP_based_prediction_practice repo ...\n",
            "Cloning into 'SHAP_based_prediction_practice'...\n",
            "fatal: could not read Username for 'https://github.com': No such device or address\n"
          ]
        }
      ]
    }
  ]
}